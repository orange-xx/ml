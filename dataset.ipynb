{
 "cells": [
  {
   "cell_type": "code",
   "execution_count": 1,
   "id": "a6a45483-e462-42a4-8ef4-f7763e78986a",
   "metadata": {},
   "outputs": [],
   "source": [
    "import numpy as np\n",
    "import scipy.io\n",
    "\n",
    "def getdata(filename):\n",
    "    \n",
    "    mat_contents = scipy.io.loadmat(filename)    \n",
    "    hour = mat_contents['Hour']\n",
    "    hour = np.reshape(hour, (64, 60, 3600))\n",
    "    \n",
    "    orgdata = np.zeros((16, 15, 3600)) \n",
    "    for i in range(16): \n",
    "        for j in range(15):\n",
    "            orgdata[i, j, :] = hour[i*4, j*4, :]\n",
    "            \n",
    "            \n",
    "    data = np.zeros((3600,66)) \n",
    "    for i in range(3600):\n",
    "        arr = orgdata[:,:,i]        \n",
    "        U, S, V = np.linalg.svd(arr) # 对数组进行SVD分解\n",
    "        \n",
    "        k = 2 # 取前2个奇异值\n",
    "        U_k = U[:, :k] \n",
    "        S_k = np.diag(S[:k]) \n",
    "        V_k = V[:k, :]\n",
    "        \n",
    "        data[i,:] = np.hstack((U_k.reshape(32),S_k.reshape(4), V_k.reshape(30)))#合并成一组特征\n",
    "        \n",
    "        \n",
    "    return data, orgdata"
   ]
  },
  {
   "cell_type": "code",
   "execution_count": null,
   "id": "330318b9-4261-49bc-a693-25b17bc4a9f1",
   "metadata": {},
   "outputs": [],
   "source": []
  }
 ],
 "metadata": {
  "kernelspec": {
   "display_name": "Python 3 (ipykernel)",
   "language": "python",
   "name": "python3"
  },
  "language_info": {
   "codemirror_mode": {
    "name": "ipython",
    "version": 3
   },
   "file_extension": ".py",
   "mimetype": "text/x-python",
   "name": "python",
   "nbconvert_exporter": "python",
   "pygments_lexer": "ipython3",
   "version": "3.10.9"
  }
 },
 "nbformat": 4,
 "nbformat_minor": 5
}
